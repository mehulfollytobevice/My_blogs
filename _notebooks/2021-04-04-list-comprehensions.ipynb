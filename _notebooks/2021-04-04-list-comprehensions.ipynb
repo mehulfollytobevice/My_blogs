{
  "nbformat": 4,
  "nbformat_minor": 0,
  "metadata": {
    "colab": {
      "name": "2021-04-04-list-comprehensions.ipynb",
      "provenance": [],
      "collapsed_sections": []
    },
    "kernelspec": {
      "name": "python3",
      "display_name": "Python 3"
    },
    "language_info": {
      "name": "python"
    }
  },
  "cells": [
    {
      "cell_type": "markdown",
      "metadata": {
        "id": "ZXDAaHYAE3z-"
      },
      "source": [
        "# List Comprehensions: The elegant way of creating lists in python \n",
        "> In this blog post  we will explore why we should use list comprehensions and what can we do with them.\n",
        "\n",
        "- toc: true \n",
        "- badges: true\n",
        "- comments: true\n",
        "- categories: [python,jupyter]\n"
      ]
    },
    {
      "cell_type": "markdown",
      "metadata": {
        "id": "ja8p7clrLIdc"
      },
      "source": [
        "Python is a beautiful programming language.In the recent years, it has become one of the most popular languages and it's usage in the software industry is rapidly growing.It is also used heavily in the field of machine learning and artificial intelligence.Being a general purpose language , python has a huge community of people from all walks of life who use it to do the most amazing things.<p>\n",
        "I have coded in other languages like C, C++ , java , R  but none of them are as elegant as python. I mostly use python for data science and ML but there is nothing you cannot do with python. In this blog post we will explore an elegant and faster way of creating lists in python , **list comprehensions**. <p>\n",
        "\n",
        "**What are list comprehensions?**<br>\n",
        "List comprehensions provide a concise way to create lists .Common applications are to make new lists where each element is the result of some operations applied to each member of another sequence or iterable, or to create a subsequence of those elements that satisfy a certain condition. [From python docs](https://docs.python.org/3/tutorial/datastructures.html#list-comprehensions)\n"
      ]
    },
    {
      "cell_type": "markdown",
      "metadata": {
        "id": "Ph104Z8MmMQm"
      },
      "source": [
        "##Why should you use list comprehensions?\n"
      ]
    },
    {
      "cell_type": "markdown",
      "metadata": {
        "id": "a27L1eOWat-R"
      },
      "source": [
        "**1.They are easy to read and understand** <br>\n",
        "As mentioned before , list comprehensions provide a concise way of creating lists . But what does that actually mean?Let's look at an example.<p>\n",
        "In the example given below , we create a list of even numbers from 1 to 20 using a for loop and then a list comprehension .This is a pretty simple task and does not require a lot of code but it shows us how concise and elegant list comprehensions are."
      ]
    },
    {
      "cell_type": "markdown",
      "metadata": {
        "id": "yHrmDRQVcs-Y"
      },
      "source": [
        "*Implementation using a for loop*"
      ]
    },
    {
      "cell_type": "code",
      "metadata": {
        "colab": {
          "base_uri": "https://localhost:8080/"
        },
        "id": "Vwh7R-ndUMuO",
        "outputId": "0e2abe26-8b23-4b27-e7c2-b3838a419b45"
      },
      "source": [
        "l=[]\n",
        "for x in range(1,20):\n",
        "  if x%2==0:\n",
        "    l.append(x)\n",
        "l"
      ],
      "execution_count": null,
      "outputs": [
        {
          "output_type": "execute_result",
          "data": {
            "text/plain": [
              "[2, 4, 6, 8, 10, 12, 14, 16, 18]"
            ]
          },
          "metadata": {
            "tags": []
          },
          "execution_count": 1
        }
      ]
    },
    {
      "cell_type": "markdown",
      "metadata": {
        "id": "00_G8Pr5c1ga"
      },
      "source": [
        "*Implementation using a list comprehension*"
      ]
    },
    {
      "cell_type": "code",
      "metadata": {
        "colab": {
          "base_uri": "https://localhost:8080/"
        },
        "id": "_Bw5a8qCQFry",
        "outputId": "c44d6d0a-4e3d-4972-e42f-1d6400c3da01"
      },
      "source": [
        "[x for x in range(1,20) if x%2==0]"
      ],
      "execution_count": null,
      "outputs": [
        {
          "output_type": "execute_result",
          "data": {
            "text/plain": [
              "[2, 4, 6, 8, 10, 12, 14, 16, 18]"
            ]
          },
          "metadata": {
            "tags": []
          },
          "execution_count": 2
        }
      ]
    },
    {
      "cell_type": "markdown",
      "metadata": {
        "id": "nCi0KowHdZhG"
      },
      "source": [
        "Wow!!! We just needed to write one line of code to create a list that contains all the even numbers from 1 to 20 (20 not included) . Although , the above example performs a very simple task , we now know just how powerful list comprehensions are. <br>\n",
        "Even if we have to do something complex it is always better to use list comprehensions . Since all the logic is packed in one line of code , it is much easier to debug as compared to a for loop with lots of lines and lots of indentation."
      ]
    },
    {
      "cell_type": "markdown",
      "metadata": {
        "id": "OFdJXXOFoApc"
      },
      "source": [
        "**2.They are generally faster than for loops**"
      ]
    },
    {
      "cell_type": "markdown",
      "metadata": {
        "id": "9qlb6-ergD-K"
      },
      "source": [
        "List comprehensions are gnerally faster than for loops. There are mainly two reasons :\n",
        "\n",
        "\n",
        "*   Python is written in C. List comprehensions do a much better job of moving the computation to the C level as compared to the slower computation done by python while we are using a for loop.\n",
        "*   While using the for loop , you have to use the *append()* function in each iteration to add an element to the list you want to create. Calling the *append()* function each time slows down the execution  .  \n",
        "\n",
        "\n",
        "\n",
        "\n",
        "\n",
        "\n",
        "\n"
      ]
    },
    {
      "cell_type": "markdown",
      "metadata": {
        "id": "zcM-2ZcjidPD"
      },
      "source": [
        "But why should you believe me?  Test it out for yourself ... <br>\n",
        "Python has an in-built module called *time* that provides us with easy to use functions to track the amount of time our program runs for. "
      ]
    },
    {
      "cell_type": "markdown",
      "metadata": {
        "id": "ONRPxhH9jNXk"
      },
      "source": [
        "*Importing the time library*"
      ]
    },
    {
      "cell_type": "code",
      "metadata": {
        "id": "LURYk82yoNNV"
      },
      "source": [
        "import time"
      ],
      "execution_count": null,
      "outputs": []
    },
    {
      "cell_type": "markdown",
      "metadata": {
        "id": "MIjk1mWUjlVm"
      },
      "source": [
        "In this example, we will create a list that contains squares of even numbers and cubes of odd numbers. We will also calculate the amount of time each method takes to complete the computation. "
      ]
    },
    {
      "cell_type": "markdown",
      "metadata": {
        "id": "7kpRPRAClocf"
      },
      "source": [
        "*Implementation using for loop*"
      ]
    },
    {
      "cell_type": "code",
      "metadata": {
        "colab": {
          "base_uri": "https://localhost:8080/"
        },
        "id": "L2rKThp0oB5L",
        "outputId": "676c3d8c-7d67-4c8c-e866-a0421b08c4ff"
      },
      "source": [
        "start=time.time()\n",
        "l=[]\n",
        "for i in range(0,20):\n",
        "  if i%2==0:\n",
        "    l.append(i**2)\n",
        "  else:\n",
        "    l.append(i**3)\n",
        "print(l)\n",
        "print(\"The execution time is:\",time.time()-start)"
      ],
      "execution_count": null,
      "outputs": [
        {
          "output_type": "stream",
          "text": [
            "[0, 1, 4, 27, 16, 125, 36, 343, 64, 729, 100, 1331, 144, 2197, 196, 3375, 256, 4913, 324, 6859]\n",
            "The execution time is: 0.010234832763671875\n"
          ],
          "name": "stdout"
        }
      ]
    },
    {
      "cell_type": "markdown",
      "metadata": {
        "id": "2h7aiqGFly7t"
      },
      "source": [
        "*Implementation using a list comprehension*"
      ]
    },
    {
      "cell_type": "code",
      "metadata": {
        "colab": {
          "base_uri": "https://localhost:8080/"
        },
        "id": "7vju6iL_or21",
        "outputId": "9bf6f88c-6f57-49dc-dcd3-e5634f8f6794"
      },
      "source": [
        "start=time.time()\n",
        "l=[x**2 if x % 2 == 0 else x**3 for x in range(0,20)]\n",
        "print(l)\n",
        "print(\"The execution time is:\",time.time()-start)"
      ],
      "execution_count": null,
      "outputs": [
        {
          "output_type": "stream",
          "text": [
            "[0, 1, 4, 27, 16, 125, 36, 343, 64, 729, 100, 1331, 144, 2197, 196, 3375, 256, 4913, 324, 6859]\n",
            "The execution time is: 0.00024056434631347656\n"
          ],
          "name": "stdout"
        }
      ]
    },
    {
      "cell_type": "markdown",
      "metadata": {
        "id": "JbzJRSPsl9Rx"
      },
      "source": [
        " Well as you can clearly see, list comprehensions are way faster . But maybe this is just dumb luck . Let's find a better way to validate the speed of list comprehensions.<p>\n",
        "The best way to test our program is to use different values for our variables and run the program over and over . \n",
        "Earlier , we only calculated the squares and cubes of numbers in the range [1,20] . Now , we are going to use multiple ranges of numbers and see how our execution time changes . Then we wil compare the execution time of the for loop and the list comprehension."
      ]
    },
    {
      "cell_type": "markdown",
      "metadata": {
        "id": "WYivTpXXp694"
      },
      "source": [
        "*Defining the ranges*"
      ]
    },
    {
      "cell_type": "code",
      "metadata": {
        "id": "QTzEpDpPpX-9"
      },
      "source": [
        "ranges=[[0,20],[0,50],[0,100],[0,500],[0,1000]]"
      ],
      "execution_count": null,
      "outputs": []
    },
    {
      "cell_type": "markdown",
      "metadata": {
        "id": "e7yfOUKNoFZV"
      },
      "source": [
        "*Creating a function that uses for loop to complete the given task*"
      ]
    },
    {
      "cell_type": "code",
      "metadata": {
        "id": "gZcnMD3uqEWH"
      },
      "source": [
        "def for_loop(r):\n",
        "  start=time.time()\n",
        "  l=[]\n",
        "  for i in range(r[0],r[1]):\n",
        "    if i%2==0:\n",
        "      l.append(i**2)\n",
        "    else:\n",
        "      l.append(i**3)\n",
        "  print(\"The execution time is {} seconds\".format(time.time()-start))\n",
        "  return l "
      ],
      "execution_count": null,
      "outputs": []
    },
    {
      "cell_type": "markdown",
      "metadata": {
        "id": "Jkcu7bzSoOsf"
      },
      "source": [
        "*How fast is the for loop at completing the task*"
      ]
    },
    {
      "cell_type": "code",
      "metadata": {
        "colab": {
          "base_uri": "https://localhost:8080/"
        },
        "id": "bZs3aMFnp1BV",
        "outputId": "a0e3e9b6-081a-450d-857a-5cbefe2843d9"
      },
      "source": [
        "for r in ranges:\n",
        "  for_loop(r)"
      ],
      "execution_count": null,
      "outputs": [
        {
          "output_type": "stream",
          "text": [
            "The execution time is 2.0742416381835938e-05 seconds\n",
            "The execution time is 3.4332275390625e-05 seconds\n",
            "The execution time is 5.817413330078125e-05 seconds\n",
            "The execution time is 0.0003447532653808594 seconds\n",
            "The execution time is 0.0009100437164306641 seconds\n"
          ],
          "name": "stdout"
        }
      ]
    },
    {
      "cell_type": "markdown",
      "metadata": {
        "id": "LcH0ufEpoZEs"
      },
      "source": [
        "*Creating a function that uses list comprehension to complete the given task*"
      ]
    },
    {
      "cell_type": "code",
      "metadata": {
        "id": "r-KSjftBqmkO"
      },
      "source": [
        "def list_comprehension(r):\n",
        "  start=time.time()\n",
        "  l=[x**2 if x % 2 == 0 else x**3 for x in range(r[0],r[1])]\n",
        "  print(\"The execution time is {} seconds\".format(time.time()-start))\n",
        "  return l"
      ],
      "execution_count": null,
      "outputs": []
    },
    {
      "cell_type": "markdown",
      "metadata": {
        "id": "H3diObz1ofpZ"
      },
      "source": [
        "*How fast is the list comprehension at completing the task*"
      ]
    },
    {
      "cell_type": "code",
      "metadata": {
        "colab": {
          "base_uri": "https://localhost:8080/"
        },
        "id": "gdXuz1fPrZGF",
        "outputId": "d4d21b4a-b75b-4b97-ef80-b892e3ed4bb8"
      },
      "source": [
        "for r in ranges:\n",
        "  list_comprehension(r)"
      ],
      "execution_count": null,
      "outputs": [
        {
          "output_type": "stream",
          "text": [
            "The execution time is 1.52587890625e-05 seconds\n",
            "The execution time is 3.337860107421875e-05 seconds\n",
            "The execution time is 6.0558319091796875e-05 seconds\n",
            "The execution time is 0.0002884864807128906 seconds\n",
            "The execution time is 0.0005509853363037109 seconds\n"
          ],
          "name": "stdout"
        }
      ]
    },
    {
      "cell_type": "markdown",
      "metadata": {
        "id": "rKwLP_RyqF_n"
      },
      "source": [
        "Comparing the execution times , we observe that list comprehensions are faster even when we increase the range of numbers .*Hence proved , list comprehensions are faster than for loops.* <p>\n",
        "You can mess around with the above programs by changing the ranges or the function bodies .It is always better to play around with the code and try to break it . <br>\n",
        "\n",
        "\n",
        "---\n",
        "\n"
      ]
    },
    {
      "cell_type": "markdown",
      "metadata": {
        "id": "IJygl33V7s3z"
      },
      "source": [
        "For the curious minds out there , here is another method you can use to validate whether list comps are faster than for loops"
      ]
    },
    {
      "cell_type": "markdown",
      "metadata": {
        "id": "aEMx31VRsz_u"
      },
      "source": [
        "*Defining the ranges*"
      ]
    },
    {
      "cell_type": "code",
      "metadata": {
        "id": "JxUcvdOVs0AX"
      },
      "source": [
        "ranges=[[0,20],[0,50],[0,100],[0,500],[0,1000]]"
      ],
      "execution_count": null,
      "outputs": []
    },
    {
      "cell_type": "markdown",
      "metadata": {
        "id": "LH-uOLmts0AZ"
      },
      "source": [
        "*Creating a function that uses for loop to complete the given task*"
      ]
    },
    {
      "cell_type": "code",
      "metadata": {
        "id": "zd10p7iE8NwY"
      },
      "source": [
        "def for_loop(r):\n",
        "  start=time.time()\n",
        "  l=[]\n",
        "  for i in range(r[0],r[1]):\n",
        "    if i%2==0:\n",
        "      l.append(i**2)\n",
        "    else:\n",
        "      l.append(i**3)\n",
        "  return l, time.time()-start"
      ],
      "execution_count": null,
      "outputs": []
    },
    {
      "cell_type": "markdown",
      "metadata": {
        "id": "a7CCBAjns66f"
      },
      "source": [
        "*Creating a function that uses list comprehension to complete the given task*"
      ]
    },
    {
      "cell_type": "code",
      "metadata": {
        "id": "ffRcZFUf8TXl"
      },
      "source": [
        "def list_comprehension(r):\n",
        "  start=time.time()\n",
        "  l=[x**2 if x % 2 == 0 else x**3 for x in range(r[0],r[1])]\n",
        "  return l,time.time()-start"
      ],
      "execution_count": null,
      "outputs": []
    },
    {
      "cell_type": "markdown",
      "metadata": {
        "id": "WJMyUlhas77o"
      },
      "source": [
        "*Let's see who is faster*"
      ]
    },
    {
      "cell_type": "code",
      "metadata": {
        "colab": {
          "base_uri": "https://localhost:8080/"
        },
        "id": "xFjach7c8dDp",
        "outputId": "87866f39-6ebd-4459-d212-4f0ccd5e2a66"
      },
      "source": [
        "for r in ranges:\n",
        "  _,t_for=for_loop(r)\n",
        "  _,t_list=list_comprehension(r)\n",
        "  if t_for>t_list:\n",
        "    print(\"List comprehension was faster in case:\",r)\n",
        "  else:\n",
        "    print(\"For loop was faster in case:\",r)"
      ],
      "execution_count": null,
      "outputs": [
        {
          "output_type": "stream",
          "text": [
            "List comprehension was faster in case: [0, 20]\n",
            "List comprehension was faster in case: [0, 50]\n",
            "List comprehension was faster in case: [0, 100]\n",
            "List comprehension was faster in case: [0, 500]\n",
            "List comprehension was faster in case: [0, 1000]\n"
          ],
          "name": "stdout"
        }
      ]
    },
    {
      "cell_type": "markdown",
      "metadata": {
        "id": "WWYtaeiStojp"
      },
      "source": [
        "##What else ?"
      ]
    },
    {
      "cell_type": "markdown",
      "metadata": {
        "id": "uy18u7_MmibR"
      },
      "source": [
        "**It's not just about readability and speed . List comprehensions are awesome .** <p>\n",
        "Let's see what else we can do with them."
      ]
    },
    {
      "cell_type": "markdown",
      "metadata": {
        "id": "SynfMEUX2SQn"
      },
      "source": [
        "**1.Nested ifs** <br>\n",
        "We can use multiple if conditions in list comps. This increases the flexibility we have in terms of selecting elements from a range or a pre-defined list.It also makes it easier to manage multiple conditions."
      ]
    },
    {
      "cell_type": "markdown",
      "metadata": {
        "id": "eh542WV-4TSS"
      },
      "source": [
        "*Implementation using a for loop*"
      ]
    },
    {
      "cell_type": "code",
      "metadata": {
        "colab": {
          "base_uri": "https://localhost:8080/"
        },
        "id": "qLOEdrsimow-",
        "outputId": "76032bd9-07dc-43fa-e42a-cc58e11aa7a7"
      },
      "source": [
        "l=[]\n",
        "for y in range(0,100):\n",
        "  if y % 2 ==0:\n",
        "    if y % 5 == 0: \n",
        "      if y % 3 == 0:\n",
        "        l.append(y)\n",
        "l"
      ],
      "execution_count": null,
      "outputs": [
        {
          "output_type": "execute_result",
          "data": {
            "text/plain": [
              "[0, 30, 60, 90]"
            ]
          },
          "metadata": {
            "tags": []
          },
          "execution_count": 20
        }
      ]
    },
    {
      "cell_type": "markdown",
      "metadata": {
        "id": "M1iO39ZZ4dUt"
      },
      "source": [
        "*Implementation using a list comprehension*"
      ]
    },
    {
      "cell_type": "code",
      "metadata": {
        "colab": {
          "base_uri": "https://localhost:8080/"
        },
        "id": "duHjBUYUi0i_",
        "outputId": "123dca5f-4116-460f-c43d-67082ed3f2d6"
      },
      "source": [
        "[y for y in range(100) if y % 2 ==0 if y % 5 == 0 if y % 3==0 ]"
      ],
      "execution_count": null,
      "outputs": [
        {
          "output_type": "execute_result",
          "data": {
            "text/plain": [
              "[0, 30, 60, 90]"
            ]
          },
          "metadata": {
            "tags": []
          },
          "execution_count": 21
        }
      ]
    },
    {
      "cell_type": "markdown",
      "metadata": {
        "id": "djmIL2WIwGj1"
      },
      "source": [
        "**2.Working with strings** <br>\n",
        "Often, we have to create lists from strings using some conditions or functions . Working with strings can become cumbersome if you are using a for loop , or worse , multiple for loops . Here , we will see how list comps can be used to find out the indices of all the vowels in a string."
      ]
    },
    {
      "cell_type": "markdown",
      "metadata": {
        "id": "6sSlSeLI5sg8"
      },
      "source": [
        "*The string*"
      ]
    },
    {
      "cell_type": "code",
      "metadata": {
        "id": "sE8qpxOUwVQX"
      },
      "source": [
        "word=\"pneumonoultramicroscopicsilicovolcanoconiosis\""
      ],
      "execution_count": null,
      "outputs": []
    },
    {
      "cell_type": "markdown",
      "metadata": {
        "id": "sbtjuJ1P54JA"
      },
      "source": [
        "*Creating a list of vowels*"
      ]
    },
    {
      "cell_type": "code",
      "metadata": {
        "id": "UeXuu9B_xEb1"
      },
      "source": [
        "vowels=[\"a\",\"e\",\"i\",\"o\",\"u\"]"
      ],
      "execution_count": null,
      "outputs": []
    },
    {
      "cell_type": "markdown",
      "metadata": {
        "id": "Oj4hOrDy58A_"
      },
      "source": [
        "*Implementation using for loop*"
      ]
    },
    {
      "cell_type": "code",
      "metadata": {
        "colab": {
          "base_uri": "https://localhost:8080/"
        },
        "id": "I7DbiGk9w9De",
        "outputId": "b4bbda6d-c5ca-4c5d-feab-1d8ec0be5778"
      },
      "source": [
        "l=[]\n",
        "for idx,x in enumerate(word):\n",
        "  if x in vowels:\n",
        "    l.append({x:idx})\n",
        "l"
      ],
      "execution_count": null,
      "outputs": [
        {
          "output_type": "execute_result",
          "data": {
            "text/plain": [
              "[{'e': 2},\n",
              " {'u': 3},\n",
              " {'o': 5},\n",
              " {'o': 7},\n",
              " {'u': 8},\n",
              " {'a': 12},\n",
              " {'i': 14},\n",
              " {'o': 17},\n",
              " {'o': 20},\n",
              " {'i': 22},\n",
              " {'i': 25},\n",
              " {'i': 27},\n",
              " {'o': 29},\n",
              " {'o': 31},\n",
              " {'a': 34},\n",
              " {'o': 36},\n",
              " {'o': 38},\n",
              " {'i': 40},\n",
              " {'o': 41},\n",
              " {'i': 43}]"
            ]
          },
          "metadata": {
            "tags": []
          },
          "execution_count": 24
        }
      ]
    },
    {
      "cell_type": "markdown",
      "metadata": {
        "id": "cMvwIBI76Gg-"
      },
      "source": [
        "*Implementation using list comprehension*"
      ]
    },
    {
      "cell_type": "code",
      "metadata": {
        "colab": {
          "base_uri": "https://localhost:8080/"
        },
        "id": "LiBXwJwrwJQj",
        "outputId": "01de98f2-9397-44e5-f39f-919fcfd4a4d1"
      },
      "source": [
        "[{x:idx} for idx,x in enumerate(word) if x in vowels]"
      ],
      "execution_count": null,
      "outputs": [
        {
          "output_type": "execute_result",
          "data": {
            "text/plain": [
              "[{'e': 2},\n",
              " {'u': 3},\n",
              " {'o': 5},\n",
              " {'o': 7},\n",
              " {'u': 8},\n",
              " {'a': 12},\n",
              " {'i': 14},\n",
              " {'o': 17},\n",
              " {'o': 20},\n",
              " {'i': 22},\n",
              " {'i': 25},\n",
              " {'i': 27},\n",
              " {'o': 29},\n",
              " {'o': 31},\n",
              " {'a': 34},\n",
              " {'o': 36},\n",
              " {'o': 38},\n",
              " {'i': 40},\n",
              " {'o': 41},\n",
              " {'i': 43}]"
            ]
          },
          "metadata": {
            "tags": []
          },
          "execution_count": 25
        }
      ]
    },
    {
      "cell_type": "markdown",
      "metadata": {
        "id": "4R3HzhVVzRT5"
      },
      "source": [
        "**3.Multiple for loops** <br>\n",
        "The world is a simulation and the source code has multiple for loops. The ability to use multiple for loops to perform complex tasks is very important in the programming world . List comps allow us to use as many for loops as we want inside the brackets."
      ]
    },
    {
      "cell_type": "code",
      "metadata": {
        "colab": {
          "base_uri": "https://localhost:8080/"
        },
        "id": "a5o_zGl5zTQv",
        "outputId": "478299da-0cc7-4e8a-8dfb-0de367ad2b29"
      },
      "source": [
        "l=[]\n",
        "for i in [3,5,7,9]:\n",
        "  for j in [2,4,6,8]:\n",
        "    if i**j > j**i:\n",
        "      l.append(i**j)\n",
        "    else:\n",
        "      l.append(j**i)\n",
        "l"
      ],
      "execution_count": null,
      "outputs": [
        {
          "output_type": "execute_result",
          "data": {
            "text/plain": [
              "[9,\n",
              " 81,\n",
              " 729,\n",
              " 6561,\n",
              " 32,\n",
              " 1024,\n",
              " 15625,\n",
              " 390625,\n",
              " 128,\n",
              " 16384,\n",
              " 279936,\n",
              " 5764801,\n",
              " 512,\n",
              " 262144,\n",
              " 10077696,\n",
              " 134217728]"
            ]
          },
          "metadata": {
            "tags": []
          },
          "execution_count": 26
        }
      ]
    },
    {
      "cell_type": "code",
      "metadata": {
        "colab": {
          "base_uri": "https://localhost:8080/"
        },
        "id": "D2m41OFQ6Lxi",
        "outputId": "3a12b3a2-c739-4449-ddef-4cad300a8451"
      },
      "source": [
        "[i**j if i**j > j**i else j**i for i in [3,5,7,9] for j in [2,4,6,8]]"
      ],
      "execution_count": null,
      "outputs": [
        {
          "output_type": "execute_result",
          "data": {
            "text/plain": [
              "[9,\n",
              " 81,\n",
              " 729,\n",
              " 6561,\n",
              " 32,\n",
              " 1024,\n",
              " 15625,\n",
              " 390625,\n",
              " 128,\n",
              " 16384,\n",
              " 279936,\n",
              " 5764801,\n",
              " 512,\n",
              " 262144,\n",
              " 10077696,\n",
              " 134217728]"
            ]
          },
          "metadata": {
            "tags": []
          },
          "execution_count": 27
        }
      ]
    },
    {
      "cell_type": "markdown",
      "metadata": {
        "id": "pf-TuIW99JSv"
      },
      "source": [
        "**4.Nested list comprehensions** <br>\n",
        "Often , we need to create a list that is a collection of multiple lists. Using nested list comps , we can again do this with one line of code . Suppose you  have to create a program that prints multiplication tables, how would you do it ? Would you use for loops ? How many loops must you create? Also what form should the output be in? <br>\n",
        "Let's see an easy way you could accomplish this task using list comps."
      ]
    },
    {
      "cell_type": "markdown",
      "metadata": {
        "id": "RToXHYfXjzSM"
      },
      "source": [
        "*Implementation using for loop*"
      ]
    },
    {
      "cell_type": "code",
      "metadata": {
        "colab": {
          "base_uri": "https://localhost:8080/"
        },
        "id": "-DtSGYrRXDpj",
        "outputId": "7bf3a8b4-9a35-43ea-8a70-b8ab576057a4"
      },
      "source": [
        "l=[]\n",
        "for x in range(11):\n",
        "  l1=[]\n",
        "  for y in range(11):\n",
        "    l1.append(x*y)\n",
        "  l.append(l1)\n",
        "l"
      ],
      "execution_count": null,
      "outputs": [
        {
          "output_type": "execute_result",
          "data": {
            "text/plain": [
              "[[0, 0, 0, 0, 0, 0, 0, 0, 0, 0, 0],\n",
              " [0, 1, 2, 3, 4, 5, 6, 7, 8, 9, 10],\n",
              " [0, 2, 4, 6, 8, 10, 12, 14, 16, 18, 20],\n",
              " [0, 3, 6, 9, 12, 15, 18, 21, 24, 27, 30],\n",
              " [0, 4, 8, 12, 16, 20, 24, 28, 32, 36, 40],\n",
              " [0, 5, 10, 15, 20, 25, 30, 35, 40, 45, 50],\n",
              " [0, 6, 12, 18, 24, 30, 36, 42, 48, 54, 60],\n",
              " [0, 7, 14, 21, 28, 35, 42, 49, 56, 63, 70],\n",
              " [0, 8, 16, 24, 32, 40, 48, 56, 64, 72, 80],\n",
              " [0, 9, 18, 27, 36, 45, 54, 63, 72, 81, 90],\n",
              " [0, 10, 20, 30, 40, 50, 60, 70, 80, 90, 100]]"
            ]
          },
          "metadata": {
            "tags": []
          },
          "execution_count": 5
        }
      ]
    },
    {
      "cell_type": "markdown",
      "metadata": {
        "id": "neTFRjTEjuir"
      },
      "source": [
        "*Implementation using list comprehension*"
      ]
    },
    {
      "cell_type": "code",
      "metadata": {
        "colab": {
          "base_uri": "https://localhost:8080/"
        },
        "id": "DFHNmYZL9PS0",
        "outputId": "112d118e-b18e-4422-ef7d-e87287911b51"
      },
      "source": [
        "[[x*y for y in range(11)] for x in range(11)]"
      ],
      "execution_count": null,
      "outputs": [
        {
          "output_type": "execute_result",
          "data": {
            "text/plain": [
              "[[0, 0, 0, 0, 0, 0, 0, 0, 0, 0, 0],\n",
              " [0, 1, 2, 3, 4, 5, 6, 7, 8, 9, 10],\n",
              " [0, 2, 4, 6, 8, 10, 12, 14, 16, 18, 20],\n",
              " [0, 3, 6, 9, 12, 15, 18, 21, 24, 27, 30],\n",
              " [0, 4, 8, 12, 16, 20, 24, 28, 32, 36, 40],\n",
              " [0, 5, 10, 15, 20, 25, 30, 35, 40, 45, 50],\n",
              " [0, 6, 12, 18, 24, 30, 36, 42, 48, 54, 60],\n",
              " [0, 7, 14, 21, 28, 35, 42, 49, 56, 63, 70],\n",
              " [0, 8, 16, 24, 32, 40, 48, 56, 64, 72, 80],\n",
              " [0, 9, 18, 27, 36, 45, 54, 63, 72, 81, 90],\n",
              " [0, 10, 20, 30, 40, 50, 60, 70, 80, 90, 100]]"
            ]
          },
          "metadata": {
            "tags": []
          },
          "execution_count": 4
        }
      ]
    },
    {
      "cell_type": "markdown",
      "metadata": {
        "id": "YDnsNHpAopHj"
      },
      "source": [
        "##Conclusion"
      ]
    },
    {
      "cell_type": "markdown",
      "metadata": {
        "id": "IeW8JkYVorsX"
      },
      "source": [
        "List comps are very versatile and you can use them in your projects to make your code faster , readable and modular. But more than that , list comps represent a better way of coding . A way of coding which involves getting rid of excessive clutter , making your programs concise and  easier for people to understand.Getting rid of excessive clutter does not only mean making your program smaller, it means formulating your problem in the best possible way.\n",
        "\n",
        "*Albert Einstein used to say:*\n",
        "> If you can't explain it to a six year old, you don't understand it yourself.\n",
        "\n",
        "If you can formulate your problem such that you can explain it with one line of code then you have a deep understanding about your problem . This will help you create better systems that not only perform complex tasks but are easier to understand in how they work .  \n"
      ]
    },
    {
      "cell_type": "markdown",
      "metadata": {
        "id": "NiIK2gSnmb8b"
      },
      "source": [
        "##A challenge for you "
      ]
    },
    {
      "cell_type": "markdown",
      "metadata": {
        "id": "n1yeIKqBx7xV"
      },
      "source": [
        "Okay!!! This has been a fascinating journey . But every journey must end for a new journey to begin . <br>\n",
        "For your new journey to begin , here is a challenge. Given below is a program that can be used to create a list of numbers from the Fibonacci Series , your task is to implement this using list comprehension.<br> It is even possible ? If not , why ? Or maybe there is a way ? <p>\n",
        "*See you on the next adventure.*"
      ]
    },
    {
      "cell_type": "code",
      "metadata": {
        "colab": {
          "base_uri": "https://localhost:8080/"
        },
        "id": "OI7T5mELVk_X",
        "outputId": "2af5e965-706b-45e1-e16b-2f14df1840da"
      },
      "source": [
        "n=int(input(\"Enter the number of digits you want:\"))\n",
        "a=0 #first seed\n",
        "b=1 #second seed\n",
        "l=[1]\n",
        "for _ in range(0,n-1):\n",
        "  sum=a+b \n",
        "  l.append(sum)\n",
        "  a=b\n",
        "  b=sum\n",
        "l"
      ],
      "execution_count": null,
      "outputs": [
        {
          "output_type": "stream",
          "text": [
            "Enter the number of digits you want:10\n"
          ],
          "name": "stdout"
        },
        {
          "output_type": "execute_result",
          "data": {
            "text/plain": [
              "[1, 1, 2, 3, 5, 8, 13, 21, 34, 55]"
            ]
          },
          "metadata": {
            "tags": []
          },
          "execution_count": 17
        }
      ]
    }
  ]
}